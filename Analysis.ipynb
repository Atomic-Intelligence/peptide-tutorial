{
 "cells": [
  {
   "cell_type": "markdown",
   "id": "da6b91d9-e71c-4ed9-acdd-62e1926dfa22",
   "metadata": {},
   "source": [
    "Hi Mayra, this is a little Jupyter notebook in which you can practice your Python skills and learn about the data science libraries.\n",
    "\n",
    "We will start by simply loading the data found in the \"data\" directory and checking to see how the two tables look. For this we will use Pandas.\n",
    "A nice Pandas tutorial can be found at https://www.kaggle.com/learn/pandas so you can first start by going through that."
   ]
  },
  {
   "cell_type": "code",
   "execution_count": 1,
   "id": "44e2cc3c-6a68-4d55-bd96-e07ddb8bfdfc",
   "metadata": {},
   "outputs": [],
   "source": [
    "# you can start implementing the data parsing here"
   ]
  },
  {
   "cell_type": "markdown",
   "id": "24b3ff42-239c-4885-a2ff-b61dc9cef23d",
   "metadata": {},
   "source": [
    "Now we can maybe do a bit of data analysis and exploration. For this, we also have a nice tutorial here https://www.kaggle.com/learn/data-visualization which uses the Seaborn library. We can look at variable distributions, correlations, differences between different patient groups and anything that comes to mind. We are here to discuss any interesting plots and/or ideas.\n",
    "\n",
    "Some starting points:\n",
    "\n",
    "- code that can visualize a random peptide distribution to get a feel for those\n",
    "- code that finds the most correlated pairs of peptides and plots them together\n",
    "- visualization of clinical variables\n",
    "- distributions of missing value counts"
   ]
  },
  {
   "cell_type": "code",
   "execution_count": 2,
   "id": "207810f3-cd04-47b7-b2a2-1eef5c3ea020",
   "metadata": {},
   "outputs": [],
   "source": [
    "# you can start implementing the data visualization here"
   ]
  },
  {
   "cell_type": "markdown",
   "id": "f39b3889-6692-4266-bf72-76c7165c5313",
   "metadata": {},
   "source": [
    "For the end of this part of the tutorial, we can do final data preprocessing. We can start by joining the two tables together (there is a little detail to be careful about here). Then we can apply filtering to remove peptides for which we do not have at least 30% non-zero data points. Finally, we can do data filtering by splitting the data into two groups based on the Kidney disease variable. We can then save the data into csv files which we can use in later notebooks to do some synthetic data generation and some machine learning."
   ]
  },
  {
   "cell_type": "code",
   "execution_count": 3,
   "id": "991850ec-f699-4596-bda4-f8186640994b",
   "metadata": {},
   "outputs": [],
   "source": [
    "# data preprocessing code goes here"
   ]
  }
 ],
 "metadata": {
  "kernelspec": {
   "display_name": "Python 3 (ipykernel)",
   "language": "python",
   "name": "python3"
  },
  "language_info": {
   "codemirror_mode": {
    "name": "ipython",
    "version": 3
   },
   "file_extension": ".py",
   "mimetype": "text/x-python",
   "name": "python",
   "nbconvert_exporter": "python",
   "pygments_lexer": "ipython3",
   "version": "3.10.12"
  }
 },
 "nbformat": 4,
 "nbformat_minor": 5
}
